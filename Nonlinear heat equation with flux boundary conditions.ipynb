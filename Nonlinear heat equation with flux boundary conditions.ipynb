{
 "cells": [
  {
   "cell_type": "code",
   "execution_count": 1,
   "metadata": {
    "executionInfo": {
     "elapsed": 236,
     "status": "ok",
     "timestamp": 1704680283987,
     "user": {
      "displayName": "Tanmay Shidhore",
      "userId": "01787127584712763308"
     },
     "user_tz": 300
    },
    "id": "M3Z-V2Ym3LLe"
   },
   "outputs": [],
   "source": [
    "import numpy as np\n",
    "import sympy as sp\n",
    "import matplotlib\n",
    "import random\n",
    "import matplotlib.pyplot as plt\n",
    "import matplotlib.tri as mtri\n",
    "from matplotlib.patches import Polygon\n",
    "from matplotlib.collections import PatchCollection\n",
    "%matplotlib inline\n",
    "%precision 5\n",
    "from pdb import set_trace as keyboard"
   ]
  },
  {
   "cell_type": "markdown",
   "metadata": {
    "id": "D2dyG_Wg3LLk"
   },
   "source": [
    "## Boundary value problem\n",
    "\n",
    "Consider a square domain $(x,y)\\in \\Omega = [0, 1]\\times [0,1]$. At the left boundary consider $\\theta=0$. On the top and bottom, we have $\\mathbf{q}\\cdot\\mathbf{n} = 0$ and on the right, $\\mathbf{q}\\cdot\\mathbf{n} = -2$ (implying flux entering the domain). There is a source term $s(\\theta) = -6\\theta$ (implying a heat sink), and the conductivity is $k(\\theta)=\\theta$. The problem is find $\\theta \\in \\Omega$ such that\n",
    "\n",
    "$-\\nabla_x (k(\\theta) \\nabla_x \\theta) = s(\\theta) \\in \\Omega$\n",
    "\n",
    "with the boundary conditions specified above. Note that this is a nonlinear problem.\n",
    "\n",
    "### Weak form\n",
    "\n",
    "The weak form (after transferring everything to one side) of this problem leads to the following integral that needs to be calculated for every element\n",
    "\n",
    "$-\\int_{\\Omega^e} \\mathbf{q}\\cdot \\nabla_x w\\,  d\\Omega^e - \\int_{\\Omega^e} s\\, w \\, d\\Omega^e - \\int_{\\Gamma^e} q_n\\, w \\, d\\Gamma^e$\n",
    "\n",
    "where $q_n = \\mathbf{q}\\cdot\\mathbf{n}$, $\\mathbf{q} = -k\\nabla_x \\theta$ is the flux, which depends on the unknown scalar field $\\theta$, and $s$ is the source term. The weight function is $w$. Note that the Neumann BC term is only included for the elements with a non--zero flux value $q_n$ that have a boundary on $\\Gamma_n$ or the part where natural boundary conditions are specified."
   ]
  },
  {
   "cell_type": "markdown",
   "metadata": {
    "id": "8EG6hnBv3LLm"
   },
   "source": [
    "## Mesh\n",
    "\n",
    "Consider a simple cartesian mesh made out of 64 quadrilateral elements and 81 nodes. For simplicity, we arrange the nodes such that the ones with the Dirichlet BC appear first in the list."
   ]
  },
  {
   "cell_type": "code",
   "execution_count": 13,
   "metadata": {
    "colab": {
     "base_uri": "https://localhost:8080/"
    },
    "executionInfo": {
     "elapsed": 272,
     "status": "ok",
     "timestamp": 1704680284246,
     "user": {
      "displayName": "Tanmay Shidhore",
      "userId": "01787127584712763308"
     },
     "user_tz": 300
    },
    "id": "xwt6NhuUHhT_",
    "outputId": "961482db-ecab-4f3a-ce25-85cfb8d1662b"
   },
   "outputs": [
    {
     "name": "stdout",
     "output_type": "stream",
     "text": [
      "Nodes array:\n",
      "[[0.    0.   ]\n",
      " [0.    0.125]\n",
      " [0.    0.25 ]\n",
      " [0.    0.375]\n",
      " [0.    0.5  ]\n",
      " [0.    0.625]\n",
      " [0.    0.75 ]\n",
      " [0.    0.875]\n",
      " [0.    1.   ]\n",
      " [0.125 0.   ]\n",
      " [0.125 0.125]\n",
      " [0.125 0.25 ]\n",
      " [0.125 0.375]\n",
      " [0.125 0.5  ]\n",
      " [0.125 0.625]\n",
      " [0.125 0.75 ]\n",
      " [0.125 0.875]\n",
      " [0.125 1.   ]\n",
      " [0.25  0.   ]\n",
      " [0.25  0.125]\n",
      " [0.25  0.25 ]\n",
      " [0.25  0.375]\n",
      " [0.25  0.5  ]\n",
      " [0.25  0.625]\n",
      " [0.25  0.75 ]\n",
      " [0.25  0.875]\n",
      " [0.25  1.   ]\n",
      " [0.375 0.   ]\n",
      " [0.375 0.125]\n",
      " [0.375 0.25 ]\n",
      " [0.375 0.375]\n",
      " [0.375 0.5  ]\n",
      " [0.375 0.625]\n",
      " [0.375 0.75 ]\n",
      " [0.375 0.875]\n",
      " [0.375 1.   ]\n",
      " [0.5   0.   ]\n",
      " [0.5   0.125]\n",
      " [0.5   0.25 ]\n",
      " [0.5   0.375]\n",
      " [0.5   0.5  ]\n",
      " [0.5   0.625]\n",
      " [0.5   0.75 ]\n",
      " [0.5   0.875]\n",
      " [0.5   1.   ]\n",
      " [0.625 0.   ]\n",
      " [0.625 0.125]\n",
      " [0.625 0.25 ]\n",
      " [0.625 0.375]\n",
      " [0.625 0.5  ]\n",
      " [0.625 0.625]\n",
      " [0.625 0.75 ]\n",
      " [0.625 0.875]\n",
      " [0.625 1.   ]\n",
      " [0.75  0.   ]\n",
      " [0.75  0.125]\n",
      " [0.75  0.25 ]\n",
      " [0.75  0.375]\n",
      " [0.75  0.5  ]\n",
      " [0.75  0.625]\n",
      " [0.75  0.75 ]\n",
      " [0.75  0.875]\n",
      " [0.75  1.   ]\n",
      " [0.875 0.   ]\n",
      " [0.875 0.125]\n",
      " [0.875 0.25 ]\n",
      " [0.875 0.375]\n",
      " [0.875 0.5  ]\n",
      " [0.875 0.625]\n",
      " [0.875 0.75 ]\n",
      " [0.875 0.875]\n",
      " [0.875 1.   ]\n",
      " [1.    0.   ]\n",
      " [1.    0.125]\n",
      " [1.    0.25 ]\n",
      " [1.    0.375]\n",
      " [1.    0.5  ]\n",
      " [1.    0.625]\n",
      " [1.    0.75 ]\n",
      " [1.    0.875]\n",
      " [1.    1.   ]]\n",
      "\n",
      "Elements array:\n",
      "[[ 0  1 10  9]\n",
      " [ 9 10 19 18]\n",
      " [18 19 28 27]\n",
      " [27 28 37 36]\n",
      " [36 37 46 45]\n",
      " [45 46 55 54]\n",
      " [54 55 64 63]\n",
      " [63 64 73 72]\n",
      " [ 1  2 11 10]\n",
      " [10 11 20 19]\n",
      " [19 20 29 28]\n",
      " [28 29 38 37]\n",
      " [37 38 47 46]\n",
      " [46 47 56 55]\n",
      " [55 56 65 64]\n",
      " [64 65 74 73]\n",
      " [ 2  3 12 11]\n",
      " [11 12 21 20]\n",
      " [20 21 30 29]\n",
      " [29 30 39 38]\n",
      " [38 39 48 47]\n",
      " [47 48 57 56]\n",
      " [56 57 66 65]\n",
      " [65 66 75 74]\n",
      " [ 3  4 13 12]\n",
      " [12 13 22 21]\n",
      " [21 22 31 30]\n",
      " [30 31 40 39]\n",
      " [39 40 49 48]\n",
      " [48 49 58 57]\n",
      " [57 58 67 66]\n",
      " [66 67 76 75]\n",
      " [ 4  5 14 13]\n",
      " [13 14 23 22]\n",
      " [22 23 32 31]\n",
      " [31 32 41 40]\n",
      " [40 41 50 49]\n",
      " [49 50 59 58]\n",
      " [58 59 68 67]\n",
      " [67 68 77 76]\n",
      " [ 5  6 15 14]\n",
      " [14 15 24 23]\n",
      " [23 24 33 32]\n",
      " [32 33 42 41]\n",
      " [41 42 51 50]\n",
      " [50 51 60 59]\n",
      " [59 60 69 68]\n",
      " [68 69 78 77]\n",
      " [ 6  7 16 15]\n",
      " [15 16 25 24]\n",
      " [24 25 34 33]\n",
      " [33 34 43 42]\n",
      " [42 43 52 51]\n",
      " [51 52 61 60]\n",
      " [60 61 70 69]\n",
      " [69 70 79 78]\n",
      " [ 7  8 17 16]\n",
      " [16 17 26 25]\n",
      " [25 26 35 34]\n",
      " [34 35 44 43]\n",
      " [43 44 53 52]\n",
      " [52 53 62 61]\n",
      " [61 62 71 70]\n",
      " [70 71 80 79]]\n"
     ]
    }
   ],
   "source": [
    "# Define the number of nodes and elements\n",
    "n_node = 81\n",
    "n_elem = 64\n",
    "\n",
    "# Initialize the node and element arrays\n",
    "node_x = np.zeros((n_node, 2))\n",
    "elements = np.zeros((n_elem, 4), dtype=int)\n",
    "\n",
    "# Fill the node array\n",
    "for i in range(9):\n",
    "    for j in range(9):\n",
    "        node_x[j*9 + i] = [j*0.125, i*0.125]\n",
    "\n",
    "print(\"Nodes array:\")\n",
    "print(node_x)\n",
    "\n",
    "\n",
    "# Fill the element array\n",
    "for i in range(8):\n",
    "    for j in range(8):\n",
    "        elements[j + i*8] = [i + j*9, i + 1 + j*9, i + 10 + j*9, i + 9 + j*9]\n",
    "print(\"\\nElements array:\")\n",
    "print(elements)"
   ]
  },
  {
   "cell_type": "markdown",
   "metadata": {},
   "source": [
    "## PLOT THE MESH\n",
    "\n",
    "To visualize the mesh and the elements, we plot the mesh with node numbers at each node"
   ]
  },
  {
   "cell_type": "code",
   "execution_count": 14,
   "metadata": {
    "colab": {
     "base_uri": "https://localhost:8080/",
     "height": 1000
    },
    "executionInfo": {
     "elapsed": 442,
     "status": "ok",
     "timestamp": 1704680284680,
     "user": {
      "displayName": "Tanmay Shidhore",
      "userId": "01787127584712763308"
     },
     "user_tz": 300
    },
    "id": "2x4Ibqqz3LLq",
    "outputId": "8c76474a-076d-4a8a-e9d3-5ad7bf8f0b67"
   },
   "outputs": [
    {
     "data": {
      "image/png": "[encoded data removed]",
      "text/plain": [
       "<Figure size 360x360 with 1 Axes>"
      ]
     },
     "metadata": {
      "needs_background": "light"
     },
     "output_type": "display_data"
    }
   ],
   "source": [
    "f, (ax1) = plt.subplots(1, 1, sharey=True,figsize=(5,5))\n",
    "ax1.set_xlim([-0.1, 1.1])\n",
    "ax1.set_ylim([-0.1, 1.1])\n",
    "ax1.set_aspect('equal')\n",
    "patches1 = []\n",
    "colors1 = np.zeros((n_elem))\n",
    "for i in range(n_elem):\n",
    "    n1 = elements[i,0]\n",
    "    n2 = elements[i,1]\n",
    "    n3 = elements[i,2]\n",
    "    n4 = elements[i,3]\n",
    "    polygon = Polygon([node_x[n1],node_x[n2],node_x[n3],node_x[n4]], closed=True)\n",
    "    patches1.append(polygon)\n",
    "    colors1[i] = 0.0\n",
    "p1 = PatchCollection(patches1)\n",
    "p1.set_array(colors1)\n",
    "ax1.add_collection(p1)\n",
    "ax1.scatter(node_x[:,0],node_x[:,1])\n",
    "for i, txt in enumerate(node_x[:,0]):\n",
    "    ax1.annotate(i, (node_x[i,0], node_x[i,1]))"
   ]
  },
  {
   "cell_type": "markdown",
   "metadata": {
    "id": "KoWxl0us3LLt"
   },
   "source": [
    "Since the problem also involves non-zero flux BCs, the best strategy is to add a mesh for boundary where flux BCs are imposed. This information includes number of boundary elements where the flux BC is imposed, the order node pairs (2D) for each face and the nodal flux values.\n",
    "\n",
    "Note: If one were to rigorously write out the explicit boundary term in terms of the 2D shape functions, the resulting simplifications resullt in an expression that is analogous to considering separate 1D shape functions on the edge."
   ]
  },
  {
   "cell_type": "code",
   "execution_count": 16,
   "metadata": {
    "colab": {
     "base_uri": "https://localhost:8080/"
    },
    "executionInfo": {
     "elapsed": 25,
     "status": "ok",
     "timestamp": 1704680284681,
     "user": {
      "displayName": "Tanmay Shidhore",
      "userId": "01787127584712763308"
     },
     "user_tz": 300
    },
    "id": "HsHyrwWPJggT",
    "outputId": "12602979-28aa-458f-d61a-b791352b2b1d"
   },
   "outputs": [
    {
     "name": "stdout",
     "output_type": "stream",
     "text": [
      "Boundary elements array:\n",
      "[[72 73]\n",
      " [73 74]\n",
      " [74 75]\n",
      " [75 76]\n",
      " [76 77]\n",
      " [77 78]\n",
      " [78 79]\n",
      " [79 80]]\n"
     ]
    }
   ],
   "source": [
    "# Define the number of boundary elements\n",
    "n_boundary_e = 8\n",
    "\n",
    "# Initialize the boundary elements array\n",
    "boundary_elements = np.zeros((n_boundary_e, 2), dtype=int)\n",
    "\n",
    "# Fill the boundary elements array\n",
    "for i in range(8):\n",
    "    boundary_elements[i] = [i+72, i+73]\n",
    "\n",
    "print(\"Boundary elements array:\")\n",
    "print(boundary_elements)\n",
    "\n",
    "\n",
    "# create the flux over the nodes\n",
    "node_qn = np.array([[-2.0, -2.0]] * n_boundary_e)"
   ]
  },
  {
   "cell_type": "markdown",
   "metadata": {
    "id": "1yfCZ0ju3LLv"
   },
   "source": [
    "### Residual\n",
    "\n",
    "This integral, upon introducing the discrete weight function $w^h = \\sum_{i=1}^4 N_i^e w_i^e$ and taking the nodal values of the weight function $w_i^e$ out of the integral, leads to the residual vector\n",
    "\n",
    "$R^e_a = -\\int_{\\Omega^e} \\mathbf{q}(\\theta^h) \\cdot \\nabla_x N_a^e \\, d\\Omega^e - \\int_{\\Omega^e} s(\\theta^h) N_a^e \\, d\\Omega^e - \\int_{\\Gamma^e} q_n\\, N_a^e \\, d\\Gamma^e$\n",
    "\n",
    "For the elements specified above, the residual is calculated for each node $a=1,2,3,4$. As mentioned earlier, the flux term is not included for interior elements or for elements which dont have a boundary on $\\Gamma_n$.\n",
    "\n",
    "### Tangent\n",
    "\n",
    "\n",
    "Linearization of the residual in the direction of the increment $\\Delta \\theta$ and substitution of the discrete increment leads to the tangent matrix $\\mathbf{K}^e$ for the element, which is the $4\\times 4$ matrix needed for the Newton-Raphson iterations as will be seen in this notebook\n",
    "\n",
    "$K_{ab}^e = \\int_{\\Omega^e} \\left(-\\frac{d \\, k(\\theta)}{d\\, \\theta}\\, N_b^e \\, \\nabla_x\\theta \\cdot \\nabla_x N_a^e \\right)d\\Omega^e + \\int_{\\Omega^e} -k(\\theta) \\nabla_x N_b^e \\cdot \\nabla_x N_a^e d\\Omega^e  - \\int_{\\Omega^e} \\left(\\frac{d\\, s(\\theta)}{d\\, \\theta}\\, N_b^e \\, N_a^e \\right) d\\Omega^e $"
   ]
  },
  {
   "cell_type": "markdown",
   "metadata": {
    "id": "4oe6Z53T3LLx"
   },
   "source": [
    "## Newton Raphson solution\n",
    "\n",
    "We start with a guess for the solution, which has to satisfy the essential boundary conditions. Since this is a nonlinear problem, initial conditions dictate the fina steady state solution. For demonstration, we consider a temperature field $\\theta =  x^2$ everywhere else except the edge with Dirichlet BCs."
   ]
  },
  {
   "cell_type": "code",
   "execution_count": 17,
   "metadata": {
    "executionInfo": {
     "elapsed": 239,
     "status": "ok",
     "timestamp": 1704680284905,
     "user": {
      "displayName": "Tanmay Shidhore",
      "userId": "01787127584712763308"
     },
     "user_tz": 300
    },
    "id": "9CaO5Rmn3LLz"
   },
   "outputs": [],
   "source": [
    "# First guess for the Newton Raphson algorithm, remember it needs to satisfy the essential boundary conditions\n",
    "# here, the only essential boundary condition is theta=0 on the bottom end. We need to initialize other nodal values to non-zero temperatures.\n",
    "\n",
    "node_th = np.zeros((n_node))\n",
    "for ni in range(n_node):\n",
    "    if node_x[ni,0]>0.001:\n",
    "        node_th[ni] = node_x[ni,0]**2"
   ]
  },
  {
   "cell_type": "markdown",
   "metadata": {
    "id": "Z0NEB1J13LLy"
   },
   "source": [
    "We define the shape functions on the 2D bi-unit domain, along with the derivatives. An additional set of 1D elements is also defined to accunt for the non-zero flux."
   ]
  },
  {
   "cell_type": "code",
   "execution_count": 18,
   "metadata": {
    "executionInfo": {
     "elapsed": 18,
     "status": "ok",
     "timestamp": 1704680284682,
     "user": {
      "displayName": "Tanmay Shidhore",
      "userId": "01787127584712763308"
     },
     "user_tz": 300
    },
    "id": "wFNjdsIN3LLy"
   },
   "outputs": [],
   "source": [
    "# Definition of the shape function and the derivative with respect to parent domain xi\n",
    "\n",
    "def Nvec(xi,eta):\n",
    "    return 0.25*np.array([(1-xi)*(1-eta),(1+xi)*(1-eta),(1+xi)*(1+eta),(1-xi)*(1+eta)])\n",
    "\n",
    "def dNvecdxi(xi,eta):\n",
    "    return 0.25*np.array([[(-1)*(1-eta),(+1)*(1-eta),(+1)*(1+eta),(-1)*(1+eta)],\\\n",
    "                          [(1-xi)*(-1),(1+xi)*(-1),(1+xi)*(+1),(1-xi)*(+1)]])\n",
    "\n",
    "# For the flux use 1D functions\n",
    "def N1D(xi):\n",
    "    return 0.5*np.array([(1-xi),(1+xi)])\n",
    "\n",
    "def dN1Ddxi(xi):\n",
    "    return 0.5*np.array([-1.0,1.0])"
   ]
  },
  {
   "cell_type": "markdown",
   "metadata": {},
   "source": [
    "For each iteration of the Newton Raphson, the total residual and total tangent are needed. For that, a loop over the elements of the mesh is done. Inside of this loop, the residual and tangent for an individual element is calculated and then *assembled* into the global residual and tangent. The residual and tangent are used to compute the increment. The increment is used to update our guess. The Newton-Loop continues until convergence."
   ]
  },
  {
   "cell_type": "code",
   "execution_count": 19,
   "metadata": {
    "colab": {
     "base_uri": "https://localhost:8080/"
    },
    "executionInfo": {
     "elapsed": 656,
     "status": "ok",
     "timestamp": 1704680285555,
     "user": {
      "displayName": "Tanmay Shidhore",
      "userId": "01787127584712763308"
     },
     "user_tz": 300
    },
    "id": "6y1VTutV3LL0",
    "outputId": "60c527b0-545d-4d56-9056-1a8f6fdd1751"
   },
   "outputs": [
    {
     "name": "stdout",
     "output_type": "stream",
     "text": [
      "iteration 1\n",
      "residual 0.001801\n",
      "iteration 2\n",
      "residual 0.000034\n",
      "iteration 3\n",
      "residual 0.000000\n",
      "iteration 4\n",
      "residual 0.000000\n"
     ]
    }
   ],
   "source": [
    "#----------------------#\n",
    "# NEWTON LOOP\n",
    "#----------------------#\n",
    "res = 1\n",
    "iter = 0\n",
    "itermax = 100\n",
    "tol = 1e-10\n",
    "while res>tol and iter<itermax:\n",
    "    # INITIALIZE GLOBAL RESIDUAL AND TANGENT\n",
    "    RR = np.zeros((n_node))\n",
    "    KK = np.zeros((n_node,n_node))\n",
    "    #----------------------#\n",
    "    # LOOP OVER ELEMENTS\n",
    "    #----------------------#\n",
    "    for ei in range(n_elem):\n",
    "        # node coordinates\n",
    "        node_ei = elements[ei]\n",
    "        x1e = node_x[node_ei[0]]\n",
    "        x2e = node_x[node_ei[1]]\n",
    "        x3e = node_x[node_ei[2]]\n",
    "        x4e = node_x[node_ei[3]]\n",
    "        # nodal values for the field theta\n",
    "        th1e = node_th[node_ei[0]]\n",
    "        th2e = node_th[node_ei[1]]\n",
    "        th3e = node_th[node_ei[2]]\n",
    "        th4e = node_th[node_ei[3]]\n",
    "        #------------------------------#\n",
    "        # LOOP OVER INTEGRATION POINTS\n",
    "        #------------------------------#\n",
    "        # integration points (using 2x2 Gauss quadrature in the parent domain)\n",
    "        IP_xi = np.array([[-1./np.sqrt(3),-1./np.sqrt(3)],[+1./np.sqrt(3),-1./np.sqrt(3)],\\\n",
    "                              [+1./np.sqrt(3),+1./np.sqrt(3)],[-1./np.sqrt(3),+1./np.sqrt(3)]])\n",
    "        IP_wi = np.array([1.,1.,1.,1.])\n",
    "        # Initialize the ELEMENT residual to a vector of zeros\n",
    "        Re = np.zeros((4)) # note the size of the residual is the number of nodes\n",
    "        # Initialize the ELEMENT tangent to a matrix of zeros\n",
    "        Ke = np.zeros((4,4))\n",
    "        # this is where the actual loop starts\n",
    "        for ip in range(4):\n",
    "            xi  = IP_xi[ip,0]\n",
    "            eta = IP_xi[ip,1]\n",
    "            wip = IP_wi[ip]\n",
    "            # evaluate the isoparametric map\n",
    "            Ns = Nvec(xi,eta)\n",
    "            x = Ns[0]*x1e + Ns[1]*x2e + Ns[2]*x3e + Ns[3]*x4e\n",
    "            # evaluate the Jacobian\n",
    "            dNsdxi = dNvecdxi(xi,eta)\n",
    "            dxdxi = np.outer(x1e,dNsdxi[:,0])+np.outer(x2e,dNsdxi[:,1])+np.outer(x3e,dNsdxi[:,2])+np.outer(x4e,dNsdxi[:,3])\n",
    "            # get gradient of basis function with respect to x using inverse jacobian. Note that the inverse is not taken explicitly.\n",
    "            # Rather, the linear system is solved using numpy.linalg.solve\n",
    "            dNsdx = np.linalg.solve(dxdxi.transpose(),dNsdxi)\n",
    "            # evaluate the field theta_h at integration point\n",
    "            theta = Ns[0]*th1e + Ns[1]*th2e + Ns[2]*th3e + Ns[3]*th4e\n",
    "            # evaluate the gradient of theta_h with respect to coordinates x\n",
    "            gradx_theta = th1e*dNsdx[:,0]+th2e*dNsdx[:,1]+th3e*dNsdx[:,2]+th4e*dNsdx[:,3]\n",
    "            # evaluate the conductivity\n",
    "            k = theta\n",
    "            # evaluate the source\n",
    "            s = -6.0*theta\n",
    "            #------------------------------#\n",
    "            # INTEGRATE THE RESIDUAL\n",
    "            #------------------------------#\n",
    "            Re[0] +=  wip*np.linalg.det(dxdxi)*(k*np.dot(gradx_theta,dNsdx[:,0]) - s*Ns[0] )\n",
    "            Re[1] +=  wip*np.linalg.det(dxdxi)*(k*np.dot(gradx_theta,dNsdx[:,1]) - s*Ns[1] )\n",
    "            Re[2] +=  wip*np.linalg.det(dxdxi)*(k*np.dot(gradx_theta,dNsdx[:,2]) - s*Ns[2] )\n",
    "            Re[3] +=  wip*np.linalg.det(dxdxi)*(k*np.dot(gradx_theta,dNsdx[:,3]) - s*Ns[3] )\n",
    "\n",
    "            # for the tangent a couple of derivatives needed first\n",
    "            dkdtheta = 1.0\n",
    "            dsdtheta = -6.0\n",
    "\n",
    "            #------------------------------#\n",
    "            # INTEGRATE THE TANGENT\n",
    "            #------------------------------#\n",
    "            # easier to do in two for loops, both are over the nodes, remember that the residual\n",
    "            # has four entries because there are four shape functions, which we referred to N_a\n",
    "            # When we did the linearization and plugged in the discrete increment we intriduced\n",
    "            # additional shape functions N_b, where b=1,2,3,4 because there are four nodes\n",
    "            for a in range(4):\n",
    "                for b in range(4):\n",
    "                    Ke[a,b] +=  wip*np.linalg.det(dxdxi)*(dkdtheta*Ns[b]*np.dot(gradx_theta,dNsdx[:,a])\\\n",
    "                                                          +k*np.dot(dNsdx[:,b],dNsdx[:,a]) - dsdtheta*Ns[a]*Ns[b] )\n",
    "        #------------------------------#\n",
    "        # ASSEMBLE INTO GLOBAL RR, KK\n",
    "        #------------------------------#\n",
    "        # Here again it is convenient to have a loop over nodes of the element\n",
    "        for a in range(4):\n",
    "            RR[node_ei[a]] += Re[a]\n",
    "            for b in range(4):\n",
    "                KK[node_ei[a],node_ei[b]] += Ke[a,b]\n",
    "\n",
    "    #-------------------------------------------#\n",
    "    # Fill in the flux residual\n",
    "    #-------------------------------------------#\n",
    "    # start with initial flux of zeros\n",
    "    RRq = np.zeros((n_node))\n",
    "    for ei in range(n_boundary_e):\n",
    "        # node coordinates for the boundary elements\n",
    "        nodes_ei = boundary_elements[ei]\n",
    "        x1e = node_x[nodes_ei[0]]\n",
    "        x2e = node_x[nodes_ei[1]]\n",
    "        # nodal values for the flux,\n",
    "        q1e = node_qn[ei,0]\n",
    "        q2e = node_qn[ei,1]\n",
    "        # length of the edge\n",
    "        le = np.linalg.norm(x2e-x1e)\n",
    "        #------------------------------#\n",
    "        # LOOP OVER INTEGRATION POINTS\n",
    "        #------------------------------#\n",
    "        # integration points in 1D\n",
    "        IP_xi = np.array([-1./np.sqrt(3),+1./np.sqrt(3)])\n",
    "        IP_wi = np.array([1.,1.])\n",
    "        # Initialize the ELEMENT residual to a vector of zeros\n",
    "        Req = np.zeros(2) # note the size of the residual is the number of nodes\n",
    "        for ip in range(2):\n",
    "            xi = IP_xi[ip]\n",
    "            wip = IP_wi[ip]\n",
    "            qn = N1D(xi)[0]*q1e + N1D(xi)[1]*q2e\n",
    "            # the corresponding Jacobian\n",
    "            dsxdxi = dN1Ddxi(xi)[1]*le\n",
    "            # the integral\n",
    "            Req[0] -= wip*dsxdxi*qn*N1D(xi)[0]\n",
    "            Req[1] -= wip*dsxdxi*qn*N1D(xi)[1]\n",
    "        #------------------------------#\n",
    "        # ASSEMBLE INTO GLOBAL RRq\n",
    "        #------------------------------#\n",
    "        RRq[nodes_ei[0]]+=Req[0]\n",
    "        RRq[nodes_ei[1]]+=Req[1]\n",
    "    #-------------------------------------------#\n",
    "    # PARTITION, ONLY RR FROM NODES WITHOUT EBC\n",
    "    #-------------------------------------------#\n",
    "    RR_dof = RR[8:] + RRq[8:] # ignore the first 8 nodes which have Dirichlet BCs\n",
    "    KK_dof = KK[8:,8:] # ignore the corresponding rows and columns in KK\n",
    "\n",
    "    #------------------------------#\n",
    "    # NEWTON STEP\n",
    "    #------------------------------#\n",
    "    res = np.linalg.norm(RR_dof)\n",
    "    th_incr = np.linalg.solve(KK_dof,RR_dof)\n",
    "    # note, the increment is only for nodes which are not in the EBC\n",
    "    node_th[8:] -= th_incr\n",
    "    iter+=1\n",
    "    print('iteration %i'%iter)\n",
    "    print('residual %f'%res)\n",
    "\n",
    "\n"
   ]
  },
  {
   "cell_type": "markdown",
   "metadata": {
    "id": "UMS-dJ4f3LL1"
   },
   "source": [
    "## Plot"
   ]
  },
  {
   "cell_type": "code",
   "execution_count": 20,
   "metadata": {
    "colab": {
     "base_uri": "https://localhost:8080/",
     "height": 445
    },
    "executionInfo": {
     "elapsed": 4041,
     "status": "ok",
     "timestamp": 1704680289589,
     "user": {
      "displayName": "Tanmay Shidhore",
      "userId": "01787127584712763308"
     },
     "user_tz": 300
    },
    "id": "4-7HY7hv3LL2",
    "outputId": "26aa5b5d-fd97-4550-fd81-a25178c7080c"
   },
   "outputs": [
    {
     "data": {
      "text/plain": [
       "<matplotlib.colorbar.Colorbar at 0x1df049719a0>"
      ]
     },
     "execution_count": 20,
     "metadata": {},
     "output_type": "execute_result"
    },
    {
     "data": {
      "image/png": "[encoded data removed]",
      "text/plain": [
       "<Figure size 360x360 with 2 Axes>"
      ]
     },
     "metadata": {
      "needs_background": "light"
     },
     "output_type": "display_data"
    }
   ],
   "source": [
    "f, (ax1) = plt.subplots(1, 1, sharey=True,figsize=(5,5))\n",
    "ax1.set_xlim([-0.1, 1.1])\n",
    "ax1.set_ylim([-0.1, 1.1])\n",
    "ax1.set_aspect('equal')\n",
    "patches1 = []\n",
    "colors1 = np.zeros((n_elem))\n",
    "theta_vec_e = []\n",
    "x_vec_e = []\n",
    "y_vec_e = []\n",
    "for i in range(n_elem):\n",
    "    n1 = elements[i,0]\n",
    "    n2 = elements[i,1]\n",
    "    n3 = elements[i,2]\n",
    "    n4 = elements[i,3]\n",
    "    x1e = node_x[n1]\n",
    "    x2e = node_x[n2]\n",
    "    x3e = node_x[n3]\n",
    "    x4e = node_x[n4]\n",
    "    th1e = node_th[n1]\n",
    "    th2e = node_th[n2]\n",
    "    th3e = node_th[n3]\n",
    "    th4e = node_th[n4]\n",
    "    polygon = Polygon([node_x[n1],node_x[n2],node_x[n3],node_x[n4]], closed=True)\n",
    "    patches1.append(polygon)\n",
    "    colors1[i] = 0.0\n",
    "    # create a scatter plot by sampling over the parent domain\n",
    "    theta_vec = np.zeros((900))\n",
    "    x_vec = np.zeros((900,2))\n",
    "    for ii in range(30):\n",
    "        for jj in range(30):\n",
    "            xi = -1 + ii/29.*2\n",
    "            eta = -1 + jj/29.*2\n",
    "            Ns = Nvec(xi,eta)\n",
    "            x_vec[ii*30+jj] = Ns[0]*x1e + Ns[1]*x2e + Ns[2]*x3e + Ns[3]*x4e\n",
    "            theta_vec[ii*30+jj]= Ns[0]*th1e + Ns[1]*th2e + Ns[2]*th3e + Ns[3]*th4e\n",
    "    theta_vec_e.append(theta_vec)\n",
    "    x_vec_e.append(x_vec[:,0])\n",
    "    y_vec_e.append(x_vec[:,1])\n",
    "\n",
    "\n",
    "p1 = PatchCollection(patches1)\n",
    "p1.set_array(colors1)\n",
    "ax1.add_collection(p1)\n",
    "\n",
    "#x_vec_all = np.stack((x_vec_e[0],x_vec_e[1],x_vec_e[2],x_vec_e[3],x_vec_e[4]))\n",
    "#y_vec_all = np.stack((y_vec_e[0],y_vec_e[1],y_vec_e[2],y_vec_e[3],y_vec_e[4]))\n",
    "#th_vec_all = np.stack((theta_vec_e[0],theta_vec_e[1],theta_vec_e[2],theta_vec_e[3],theta_vec_e[4]))\n",
    "\n",
    "x_vec_all = np.stack(x_vec_e)\n",
    "y_vec_all = np.stack(y_vec_e)\n",
    "th_vec_all = np.stack(theta_vec_e)\n",
    "\n",
    "sc = ax1.scatter(x_vec_all,y_vec_all,c=th_vec_all,s=30)\n",
    "plt.colorbar(sc,ax=ax1)"
   ]
  },
  {
   "cell_type": "code",
   "execution_count": null,
   "metadata": {
    "executionInfo": {
     "elapsed": 15,
     "status": "ok",
     "timestamp": 1704680289591,
     "user": {
      "displayName": "Tanmay Shidhore",
      "userId": "01787127584712763308"
     },
     "user_tz": 300
    },
    "id": "trg6nMca1a1t"
   },
   "outputs": [],
   "source": []
  }
 ],
 "metadata": {
  "colab": {
   "provenance": []
  },
  "kernelspec": {
   "display_name": "Python 3 (ipykernel)",
   "language": "python",
   "name": "python3"
  },
  "language_info": {
   "codemirror_mode": {
    "name": "ipython",
    "version": 3
   },
   "file_extension": ".py",
   "mimetype": "text/x-python",
   "name": "python",
   "nbconvert_exporter": "python",
   "pygments_lexer": "ipython3",
   "version": "3.8.5"
  }
 },
 "nbformat": 4,
 "nbformat_minor": 1
}
